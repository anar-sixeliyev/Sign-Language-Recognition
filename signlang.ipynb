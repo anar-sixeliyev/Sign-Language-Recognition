{
 "cells": [
  {
   "cell_type": "markdown",
   "metadata": {},
   "source": [
    "SIGN LANGUAGE RECOGNITION"
   ]
  },
  {
   "cell_type": "markdown",
   "metadata": {},
   "source": [
    "Group 7 :\n",
    "\n",
    "Anar Shikhaliyev, Asmar Khalilli, Sabina Abdyeva, Vugar Mammadov\n"
   ]
  },
  {
   "cell_type": "code",
   "execution_count": 2,
   "metadata": {},
   "outputs": [],
   "source": [
    "import numpy as np\n",
    "import matplotlib.pyplot as plt\n",
    "import cv2\n",
    "import tensorflow as tf\n",
    "import os\n",
    "import shutil\n",
    "import scipy\n",
    "from tensorflow.keras.preprocessing.image import ImageDataGenerator\n",
    "from tensorflow.keras.models import Sequential, load_model\n",
    "from tensorflow.keras.layers import Dense, Dropout, Flatten, Conv2D, MaxPooling2D\n",
    "from tensorflow.keras.optimizers import Adam"
   ]
  },
  {
   "cell_type": "code",
   "execution_count": 3,
   "metadata": {},
   "outputs": [
    {
     "name": "stdout",
     "output_type": "stream",
     "text": [
      "Total images:  4000\n",
      "Training:  2800\n",
      "Validation:  600\n",
      "Testing:  600\n",
      "Total images:  4000\n",
      "Training:  2800\n",
      "Validation:  600\n",
      "Testing:  600\n"
     ]
    }
   ],
   "source": [
    "# # EXECUTE ONLY ONCE\n",
    "# # Creating Train / Val / Test folders\n",
    "root_dir = './'\n",
    "\n",
    "# create folder in root directory\n",
    "for folder in os.listdir(\"ASL\"):\n",
    "    os.makedirs(root_dir +'/train/' + folder)\n",
    "    os.makedirs(root_dir +'/test/' + folder)\n",
    "    os.makedirs(root_dir +'/validation/' + folder)\n",
    "\n",
    "\n",
    "\n",
    "# Creating partitions of the data after shuffeling\n",
    "for folderName in os.listdir(\"ASL\"):\n",
    "    currentCls = folderName\n",
    "    src = \"ASL/\"+currentCls+\"/\" # Folder to copy images from\n",
    "\n",
    "    allFileNames = os.listdir(src)\n",
    "\n",
    "    np.random.shuffle(allFileNames)\n",
    "    train_FileNames, val_FileNames, test_FileNames = np.split(np.array(allFileNames),\n",
    "                                                            [int(len(allFileNames)*0.7), int(len(allFileNames)*0.85)])\n",
    "\n",
    "\n",
    "    train_FileNames = [src+'/'+ name for name in train_FileNames.tolist()]\n",
    "    val_FileNames = [src+'/' + name for name in val_FileNames.tolist()]\n",
    "    test_FileNames = [src+'/' + name for name in test_FileNames.tolist()]\n",
    "\n",
    "    print('Total images: ', len(allFileNames))\n",
    "    print('Training: ', len(train_FileNames))\n",
    "    print('Validation: ', len(val_FileNames))\n",
    "    print('Testing: ', len(test_FileNames))\n",
    "\n",
    "    # Copy-pasting images\n",
    "    for name in train_FileNames:\n",
    "        shutil.copy(name, \"./train/\"+currentCls)\n",
    "\n",
    "    for name in val_FileNames:\n",
    "        shutil.copy(name, \"./validation/\"+currentCls)\n",
    "\n",
    "    for name in test_FileNames:\n",
    "        shutil.copy(name, \"./test/\"+currentCls)"
   ]
  },
  {
   "cell_type": "code",
   "execution_count": 3,
   "metadata": {},
   "outputs": [
    {
     "name": "stdout",
     "output_type": "stream",
     "text": [
      "Found 5600 images belonging to 2 classes.\n",
      "Found 1200 images belonging to 2 classes.\n"
     ]
    }
   ],
   "source": [
    "train_path = './train'\n",
    "test_path = './test'\n",
    "classes = 2 # number of classes, 26 in normal case, but we trained on 4 classes \n",
    "img_size = 64 # 64x64 pixels\n",
    "\n",
    "train_batches = ImageDataGenerator (\n",
    "    rescale=1./255,\n",
    "    rotation_range=30,\n",
    "    width_shift_range=0.3,\n",
    "    height_shift_range=0.3,\n",
    "    horizontal_flip=False,\n",
    "    fill_mode='nearest' ).flow_from_directory (\n",
    "        train_path,\n",
    "        target_size=(img_size, img_size),\n",
    "        batch_size=23,\n",
    "        color_mode = 'grayscale',\n",
    "        class_mode='categorical',\n",
    "        shuffle=True )\n",
    "\n",
    "test_batches = ImageDataGenerator(\n",
    "    rescale=1./255 ).flow_from_directory (\n",
    "        test_path,\n",
    "        target_size=(img_size, img_size),\n",
    "        batch_size=32,\n",
    "        color_mode = 'grayscale',\n",
    "        class_mode='categorical',\n",
    "        shuffle=True )"
   ]
  },
  {
   "cell_type": "code",
   "execution_count": 4,
   "metadata": {},
   "outputs": [
    {
     "name": "stdout",
     "output_type": "stream",
     "text": [
      "Model: \"sequential\"\n",
      "_________________________________________________________________\n",
      " Layer (type)                Output Shape              Param #   \n",
      "=================================================================\n",
      " conv2d (Conv2D)             (None, 62, 62, 32)        320       \n",
      "                                                                 \n",
      " max_pooling2d (MaxPooling2D  (None, 31, 31, 32)       0         \n",
      " )                                                               \n",
      "                                                                 \n",
      " conv2d_1 (Conv2D)           (None, 29, 29, 64)        18496     \n",
      "                                                                 \n",
      " max_pooling2d_1 (MaxPooling  (None, 14, 14, 64)       0         \n",
      " 2D)                                                             \n",
      "                                                                 \n",
      " conv2d_2 (Conv2D)           (None, 12, 12, 64)        36928     \n",
      "                                                                 \n",
      " max_pooling2d_2 (MaxPooling  (None, 6, 6, 64)         0         \n",
      " 2D)                                                             \n",
      "                                                                 \n",
      " flatten (Flatten)           (None, 2304)              0         \n",
      "                                                                 \n",
      " dense (Dense)               (None, 256)               590080    \n",
      "                                                                 \n",
      " dropout (Dropout)           (None, 256)               0         \n",
      "                                                                 \n",
      " dense_1 (Dense)             (None, 2)                 514       \n",
      "                                                                 \n",
      "=================================================================\n",
      "Total params: 646,338\n",
      "Trainable params: 646,338\n",
      "Non-trainable params: 0\n",
      "_________________________________________________________________\n",
      "None\n"
     ]
    }
   ],
   "source": [
    "model = Sequential()\n",
    "\n",
    "# 1st Convolution layer\n",
    "model.add(Conv2D(32, kernel_size=(3,3), activation = 'relu', input_shape=(img_size, img_size ,1) ))\n",
    "# Pooling\n",
    "model.add(MaxPooling2D(pool_size = (2, 2)))\n",
    "\n",
    "# 2nd Convolution layer\n",
    "model.add(Conv2D(64, kernel_size = (3, 3), activation = 'relu'))\n",
    "model.add(MaxPooling2D(pool_size = (2, 2)))\n",
    "\n",
    "# 3rd Convolution layer\n",
    "model.add(Conv2D(64, kernel_size = (3, 3), activation = 'relu'))\n",
    "model.add(MaxPooling2D(pool_size = (2, 2)))\n",
    "\n",
    "# Flattening\n",
    "model.add(Flatten())\n",
    "\n",
    "# Full connected layer\n",
    "model.add(Dense(256, activation = 'relu'))\n",
    "model.add(Dropout(0.50))\n",
    "\n",
    "model.add(Dense(classes, activation = 'softmax'))\n",
    "print(model.summary())"
   ]
  },
  {
   "cell_type": "code",
   "execution_count": 5,
   "metadata": {},
   "outputs": [],
   "source": [
    "model.compile (\n",
    "    loss = 'categorical_crossentropy',\n",
    "    optimizer= Adam(learning_rate=0.0005),\n",
    "    metrics=['accuracy'] )"
   ]
  },
  {
   "cell_type": "code",
   "execution_count": 6,
   "metadata": {},
   "outputs": [
    {
     "name": "stdout",
     "output_type": "stream",
     "text": [
      "Epoch 1/10\n",
      "175/175 [==============================] - 15s 84ms/step - loss: 0.6787 - accuracy: 0.5513 - val_loss: 0.6099 - val_accuracy: 0.5684\n",
      "Epoch 2/10\n",
      "175/175 [==============================] - 15s 84ms/step - loss: 0.5919 - accuracy: 0.6870 - val_loss: 0.4539 - val_accuracy: 0.7145\n",
      "Epoch 3/10\n",
      "175/175 [==============================] - 14s 78ms/step - loss: 0.5102 - accuracy: 0.7478 - val_loss: 0.3470 - val_accuracy: 0.8767\n",
      "Epoch 4/10\n",
      "175/175 [==============================] - 15s 86ms/step - loss: 0.4356 - accuracy: 0.7999 - val_loss: 0.2980 - val_accuracy: 0.8674\n",
      "Epoch 5/10\n",
      "175/175 [==============================] - 15s 87ms/step - loss: 0.4060 - accuracy: 0.8253 - val_loss: 0.2512 - val_accuracy: 0.9003\n",
      "Epoch 6/10\n",
      "175/175 [==============================] - 15s 86ms/step - loss: 0.3771 - accuracy: 0.8310 - val_loss: 0.2071 - val_accuracy: 0.9088\n",
      "Epoch 7/10\n",
      "175/175 [==============================] - 15s 84ms/step - loss: 0.3242 - accuracy: 0.8560 - val_loss: 0.1673 - val_accuracy: 0.9257\n",
      "Epoch 8/10\n",
      "175/175 [==============================] - 17s 95ms/step - loss: 0.2872 - accuracy: 0.8712 - val_loss: 0.1593 - val_accuracy: 0.9333\n",
      "Epoch 9/10\n",
      "175/175 [==============================] - 15s 84ms/step - loss: 0.2584 - accuracy: 0.8904 - val_loss: 0.1334 - val_accuracy: 0.9409\n",
      "Epoch 10/10\n",
      "175/175 [==============================] - 14s 82ms/step - loss: 0.2337 - accuracy: 0.8964 - val_loss: 0.1194 - val_accuracy: 0.9485\n"
     ]
    }
   ],
   "source": [
    "nb_train_samples = 5600 # 45500 : here we should write the number of training and testing data\n",
    "                                # this numbers are given as the output of the second cell\n",
    "nb_test_samples = 1200 # 6500 \n",
    "epochs = 10\n",
    "batch_size = 32\n",
    "\n",
    "history = model.fit (\n",
    "    train_batches,\n",
    "    steps_per_epoch = nb_train_samples // batch_size,\n",
    "    validation_data = test_batches,\n",
    "    validation_steps = nb_test_samples // batch_size,\n",
    "    epochs = epochs )"
   ]
  },
  {
   "cell_type": "code",
   "execution_count": 7,
   "metadata": {},
   "outputs": [
    {
     "data": {
      "image/png": "[encoded data removed]",
      "text/plain": [
       "<Figure size 432x288 with 1 Axes>"
      ]
     },
     "metadata": {
      "needs_background": "light"
     },
     "output_type": "display_data"
    }
   ],
   "source": [
    "# Graph of accuracies of both train and test datasets\n",
    "plt.title(\"Accuracy\")\n",
    "plt.plot(history.history['accuracy'])\n",
    "plt.plot(history.history['val_accuracy'])\n",
    "plt.xlabel('Number of Epoches')\n",
    "plt.ylabel('Accuracy')\n",
    "plt.legend(['Train data','Test data'])\n",
    "\n",
    "plt.show()"
   ]
  },
  {
   "cell_type": "code",
   "execution_count": 8,
   "metadata": {},
   "outputs": [],
   "source": [
    "# Save the model \n",
    "model.save(\"gestures_cnn.h5\")\n",
    "model = load_model('gestures_cnn.h5')"
   ]
  },
  {
   "cell_type": "code",
   "execution_count": 9,
   "metadata": {},
   "outputs": [],
   "source": [
    "def getLetter(result):\n",
    "    labels = { \n",
    "        0: 'A',\n",
    "        1: 'B',\n",
    "        2: 'C',\n",
    "        3: 'D',\n",
    "        4: 'E',\n",
    "        5: 'F',\n",
    "        6: 'G',\n",
    "        7: 'H',\n",
    "        8: 'I',\n",
    "        9: 'J',\n",
    "        10: 'K',\n",
    "        11: 'L',\n",
    "        12: 'M',\n",
    "        13: 'N',\n",
    "        14: 'O',\n",
    "        15: 'P',\n",
    "        16: 'Q',\n",
    "        17: 'R',\n",
    "        18: 'S',\n",
    "        19: 'T',\n",
    "        20: 'U',\n",
    "        21: 'V',\n",
    "        22: 'W',\n",
    "        23: 'X',\n",
    "        24: 'Y',\n",
    "        25: 'Z' }\n",
    "    try:\n",
    "        res = int(result)\n",
    "        return labels[res]\n",
    "    except:\n",
    "        return \"Something went wrong :/\""
   ]
  },
  {
   "cell_type": "code",
   "execution_count": 10,
   "metadata": {},
   "outputs": [
    {
     "ename": "KeyboardInterrupt",
     "evalue": "",
     "output_type": "error",
     "traceback": [
      "\u001b[1;31m---------------------------------------------------------------------------\u001b[0m",
      "\u001b[1;31mKeyboardInterrupt\u001b[0m                         Traceback (most recent call last)",
      "\u001b[1;32mc:\\Users\\SixaliyevAS\\Desktop\\SL\\Sign-Language-Recognition\\signlang.ipynb Cell 12\u001b[0m in \u001b[0;36m<cell line: 3>\u001b[1;34m()\u001b[0m\n\u001b[0;32m     <a href='vscode-notebook-cell:/c%3A/Users/SixaliyevAS/Desktop/SL/Sign-Language-Recognition/signlang.ipynb#ch0000011?line=15'>16</a>\u001b[0m roi \u001b[39m=\u001b[39m roi\u001b[39m.\u001b[39mreshape(\u001b[39m1\u001b[39m,img_size,img_size,\u001b[39m1\u001b[39m) \n\u001b[0;32m     <a href='vscode-notebook-cell:/c%3A/Users/SixaliyevAS/Desktop/SL/Sign-Language-Recognition/signlang.ipynb#ch0000011?line=17'>18</a>\u001b[0m roi \u001b[39m=\u001b[39m roi\u001b[39m/\u001b[39m\u001b[39m255\u001b[39m\n\u001b[1;32m---> <a href='vscode-notebook-cell:/c%3A/Users/SixaliyevAS/Desktop/SL/Sign-Language-Recognition/signlang.ipynb#ch0000011?line=18'>19</a>\u001b[0m result \u001b[39m=\u001b[39m \u001b[39mstr\u001b[39m(np\u001b[39m.\u001b[39margmax(model\u001b[39m.\u001b[39;49mpredict(roi, \u001b[39m1\u001b[39;49m, verbose \u001b[39m=\u001b[39;49m \u001b[39m0\u001b[39;49m)[\u001b[39m0\u001b[39m]))\n\u001b[0;32m     <a href='vscode-notebook-cell:/c%3A/Users/SixaliyevAS/Desktop/SL/Sign-Language-Recognition/signlang.ipynb#ch0000011?line=20'>21</a>\u001b[0m cv2\u001b[39m.\u001b[39mputText(frame_copy, getLetter(result), (\u001b[39m300\u001b[39m , \u001b[39m100\u001b[39m), cv2\u001b[39m.\u001b[39mFONT_HERSHEY_COMPLEX, \u001b[39m2\u001b[39m, (\u001b[39m0\u001b[39m, \u001b[39m255\u001b[39m, \u001b[39m0\u001b[39m), \u001b[39m2\u001b[39m)\n\u001b[0;32m     <a href='vscode-notebook-cell:/c%3A/Users/SixaliyevAS/Desktop/SL/Sign-Language-Recognition/signlang.ipynb#ch0000011?line=21'>22</a>\u001b[0m cv2\u001b[39m.\u001b[39mimshow(\u001b[39m'\u001b[39m\u001b[39mFrame\u001b[39m\u001b[39m'\u001b[39m, frame_copy)    \n",
      "File \u001b[1;32mc:\\Users\\SixaliyevAS\\AppData\\Local\\Programs\\Python\\Python310\\lib\\site-packages\\keras\\utils\\traceback_utils.py:64\u001b[0m, in \u001b[0;36mfilter_traceback.<locals>.error_handler\u001b[1;34m(*args, **kwargs)\u001b[0m\n\u001b[0;32m     62\u001b[0m filtered_tb \u001b[39m=\u001b[39m \u001b[39mNone\u001b[39;00m\n\u001b[0;32m     63\u001b[0m \u001b[39mtry\u001b[39;00m:\n\u001b[1;32m---> 64\u001b[0m   \u001b[39mreturn\u001b[39;00m fn(\u001b[39m*\u001b[39margs, \u001b[39m*\u001b[39m\u001b[39m*\u001b[39mkwargs)\n\u001b[0;32m     65\u001b[0m \u001b[39mexcept\u001b[39;00m \u001b[39mException\u001b[39;00m \u001b[39mas\u001b[39;00m e:  \u001b[39m# pylint: disable=broad-except\u001b[39;00m\n\u001b[0;32m     66\u001b[0m   filtered_tb \u001b[39m=\u001b[39m _process_traceback_frames(e\u001b[39m.\u001b[39m__traceback__)\n",
      "File \u001b[1;32mc:\\Users\\SixaliyevAS\\AppData\\Local\\Programs\\Python\\Python310\\lib\\site-packages\\keras\\engine\\training.py:2002\u001b[0m, in \u001b[0;36mModel.predict\u001b[1;34m(self, x, batch_size, verbose, steps, callbacks, max_queue_size, workers, use_multiprocessing)\u001b[0m\n\u001b[0;32m   1995\u001b[0m   \u001b[39mexcept\u001b[39;00m \u001b[39mValueError\u001b[39;00m:\n\u001b[0;32m   1996\u001b[0m     warnings\u001b[39m.\u001b[39mwarn(\n\u001b[0;32m   1997\u001b[0m         \u001b[39m'\u001b[39m\u001b[39mUsing Model.predict with MultiWorkerMirroredStrategy or \u001b[39m\u001b[39m'\u001b[39m\n\u001b[0;32m   1998\u001b[0m         \u001b[39m'\u001b[39m\u001b[39mTPUStrategy and AutoShardPolicy.FILE might lead to out-of-order \u001b[39m\u001b[39m'\u001b[39m\n\u001b[0;32m   1999\u001b[0m         \u001b[39m'\u001b[39m\u001b[39mresult. Consider setting it to AutoShardPolicy.DATA.\u001b[39m\u001b[39m'\u001b[39m,\n\u001b[0;32m   2000\u001b[0m         stacklevel\u001b[39m=\u001b[39m\u001b[39m2\u001b[39m)\n\u001b[1;32m-> 2002\u001b[0m data_handler \u001b[39m=\u001b[39m data_adapter\u001b[39m.\u001b[39;49mget_data_handler(\n\u001b[0;32m   2003\u001b[0m     x\u001b[39m=\u001b[39;49mx,\n\u001b[0;32m   2004\u001b[0m     batch_size\u001b[39m=\u001b[39;49mbatch_size,\n\u001b[0;32m   2005\u001b[0m     steps_per_epoch\u001b[39m=\u001b[39;49msteps,\n\u001b[0;32m   2006\u001b[0m     initial_epoch\u001b[39m=\u001b[39;49m\u001b[39m0\u001b[39;49m,\n\u001b[0;32m   2007\u001b[0m     epochs\u001b[39m=\u001b[39;49m\u001b[39m1\u001b[39;49m,\n\u001b[0;32m   2008\u001b[0m     max_queue_size\u001b[39m=\u001b[39;49mmax_queue_size,\n\u001b[0;32m   2009\u001b[0m     workers\u001b[39m=\u001b[39;49mworkers,\n\u001b[0;32m   2010\u001b[0m     use_multiprocessing\u001b[39m=\u001b[39;49muse_multiprocessing,\n\u001b[0;32m   2011\u001b[0m     model\u001b[39m=\u001b[39;49m\u001b[39mself\u001b[39;49m,\n\u001b[0;32m   2012\u001b[0m     steps_per_execution\u001b[39m=\u001b[39;49m\u001b[39mself\u001b[39;49m\u001b[39m.\u001b[39;49m_steps_per_execution)\n\u001b[0;32m   2014\u001b[0m \u001b[39m# Container that configures and calls `tf.keras.Callback`s.\u001b[39;00m\n\u001b[0;32m   2015\u001b[0m \u001b[39mif\u001b[39;00m \u001b[39mnot\u001b[39;00m \u001b[39misinstance\u001b[39m(callbacks, callbacks_module\u001b[39m.\u001b[39mCallbackList):\n",
      "File \u001b[1;32mc:\\Users\\SixaliyevAS\\AppData\\Local\\Programs\\Python\\Python310\\lib\\site-packages\\keras\\engine\\data_adapter.py:1401\u001b[0m, in \u001b[0;36mget_data_handler\u001b[1;34m(*args, **kwargs)\u001b[0m\n\u001b[0;32m   1399\u001b[0m \u001b[39mif\u001b[39;00m \u001b[39mgetattr\u001b[39m(kwargs[\u001b[39m\"\u001b[39m\u001b[39mmodel\u001b[39m\u001b[39m\"\u001b[39m], \u001b[39m\"\u001b[39m\u001b[39m_cluster_coordinator\u001b[39m\u001b[39m\"\u001b[39m, \u001b[39mNone\u001b[39;00m):\n\u001b[0;32m   1400\u001b[0m   \u001b[39mreturn\u001b[39;00m _ClusterCoordinatorDataHandler(\u001b[39m*\u001b[39margs, \u001b[39m*\u001b[39m\u001b[39m*\u001b[39mkwargs)\n\u001b[1;32m-> 1401\u001b[0m \u001b[39mreturn\u001b[39;00m DataHandler(\u001b[39m*\u001b[39margs, \u001b[39m*\u001b[39m\u001b[39m*\u001b[39mkwargs)\n",
      "File \u001b[1;32mc:\\Users\\SixaliyevAS\\AppData\\Local\\Programs\\Python\\Python310\\lib\\site-packages\\keras\\engine\\data_adapter.py:1151\u001b[0m, in \u001b[0;36mDataHandler.__init__\u001b[1;34m(self, x, y, sample_weight, batch_size, steps_per_epoch, initial_epoch, epochs, shuffle, class_weight, max_queue_size, workers, use_multiprocessing, model, steps_per_execution, distribute)\u001b[0m\n\u001b[0;32m   1148\u001b[0m   \u001b[39mself\u001b[39m\u001b[39m.\u001b[39m_steps_per_execution \u001b[39m=\u001b[39m steps_per_execution\n\u001b[0;32m   1150\u001b[0m adapter_cls \u001b[39m=\u001b[39m select_data_adapter(x, y)\n\u001b[1;32m-> 1151\u001b[0m \u001b[39mself\u001b[39m\u001b[39m.\u001b[39m_adapter \u001b[39m=\u001b[39m adapter_cls(\n\u001b[0;32m   1152\u001b[0m     x,\n\u001b[0;32m   1153\u001b[0m     y,\n\u001b[0;32m   1154\u001b[0m     batch_size\u001b[39m=\u001b[39;49mbatch_size,\n\u001b[0;32m   1155\u001b[0m     steps\u001b[39m=\u001b[39;49msteps_per_epoch,\n\u001b[0;32m   1156\u001b[0m     epochs\u001b[39m=\u001b[39;49mepochs \u001b[39m-\u001b[39;49m initial_epoch,\n\u001b[0;32m   1157\u001b[0m     sample_weights\u001b[39m=\u001b[39;49msample_weight,\n\u001b[0;32m   1158\u001b[0m     shuffle\u001b[39m=\u001b[39;49mshuffle,\n\u001b[0;32m   1159\u001b[0m     max_queue_size\u001b[39m=\u001b[39;49mmax_queue_size,\n\u001b[0;32m   1160\u001b[0m     workers\u001b[39m=\u001b[39;49mworkers,\n\u001b[0;32m   1161\u001b[0m     use_multiprocessing\u001b[39m=\u001b[39;49muse_multiprocessing,\n\u001b[0;32m   1162\u001b[0m     distribution_strategy\u001b[39m=\u001b[39;49mtf\u001b[39m.\u001b[39;49mdistribute\u001b[39m.\u001b[39;49mget_strategy(),\n\u001b[0;32m   1163\u001b[0m     model\u001b[39m=\u001b[39;49mmodel)\n\u001b[0;32m   1165\u001b[0m strategy \u001b[39m=\u001b[39m tf\u001b[39m.\u001b[39mdistribute\u001b[39m.\u001b[39mget_strategy()\n\u001b[0;32m   1167\u001b[0m \u001b[39mself\u001b[39m\u001b[39m.\u001b[39m_current_step \u001b[39m=\u001b[39m \u001b[39m0\u001b[39m\n",
      "File \u001b[1;32mc:\\Users\\SixaliyevAS\\AppData\\Local\\Programs\\Python\\Python310\\lib\\site-packages\\keras\\engine\\data_adapter.py:328\u001b[0m, in \u001b[0;36mTensorLikeDataAdapter.__init__\u001b[1;34m(self, x, y, sample_weights, sample_weight_modes, batch_size, epochs, steps, shuffle, **kwargs)\u001b[0m\n\u001b[0;32m    324\u001b[0m   \u001b[39mreturn\u001b[39;00m flat_dataset\n\u001b[0;32m    326\u001b[0m indices_dataset \u001b[39m=\u001b[39m indices_dataset\u001b[39m.\u001b[39mflat_map(slice_batch_indices)\n\u001b[1;32m--> 328\u001b[0m dataset \u001b[39m=\u001b[39m \u001b[39mself\u001b[39;49m\u001b[39m.\u001b[39;49mslice_inputs(indices_dataset, inputs)\n\u001b[0;32m    330\u001b[0m \u001b[39mif\u001b[39;00m shuffle \u001b[39m==\u001b[39m \u001b[39m\"\u001b[39m\u001b[39mbatch\u001b[39m\u001b[39m\"\u001b[39m:\n\u001b[0;32m    331\u001b[0m   \u001b[39mdef\u001b[39;00m \u001b[39mshuffle_batch\u001b[39m(\u001b[39m*\u001b[39mbatch):\n",
      "File \u001b[1;32mc:\\Users\\SixaliyevAS\\AppData\\Local\\Programs\\Python\\Python310\\lib\\site-packages\\keras\\engine\\data_adapter.py:371\u001b[0m, in \u001b[0;36mTensorLikeDataAdapter.slice_inputs\u001b[1;34m(self, indices_dataset, inputs)\u001b[0m\n\u001b[0;32m    367\u001b[0m \u001b[39mif\u001b[39;00m \u001b[39mself\u001b[39m\u001b[39m.\u001b[39m_shuffle:\n\u001b[0;32m    368\u001b[0m   \u001b[39m# See b/141490660 for more details.\u001b[39;00m\n\u001b[0;32m    369\u001b[0m   options\u001b[39m.\u001b[39mexperimental_external_state_policy \u001b[39m=\u001b[39m (\n\u001b[0;32m    370\u001b[0m       tf\u001b[39m.\u001b[39mdata\u001b[39m.\u001b[39mexperimental\u001b[39m.\u001b[39mExternalStatePolicy\u001b[39m.\u001b[39mIGNORE)\n\u001b[1;32m--> 371\u001b[0m dataset \u001b[39m=\u001b[39m dataset\u001b[39m.\u001b[39;49mwith_options(options)\n\u001b[0;32m    372\u001b[0m \u001b[39mreturn\u001b[39;00m dataset\n",
      "File \u001b[1;32mc:\\Users\\SixaliyevAS\\AppData\\Local\\Programs\\Python\\Python310\\lib\\site-packages\\tensorflow\\python\\data\\ops\\dataset_ops.py:2726\u001b[0m, in \u001b[0;36mDatasetV2.with_options\u001b[1;34m(self, options, name)\u001b[0m\n\u001b[0;32m   2700\u001b[0m \u001b[39mdef\u001b[39;00m \u001b[39mwith_options\u001b[39m(\u001b[39mself\u001b[39m, options, name\u001b[39m=\u001b[39m\u001b[39mNone\u001b[39;00m):\n\u001b[0;32m   2701\u001b[0m   \u001b[39m\"\"\"Returns a new `tf.data.Dataset` with the given options set.\u001b[39;00m\n\u001b[0;32m   2702\u001b[0m \n\u001b[0;32m   2703\u001b[0m \u001b[39m  The options are \"global\" in the sense they apply to the entire dataset.\u001b[39;00m\n\u001b[1;32m   (...)\u001b[0m\n\u001b[0;32m   2724\u001b[0m \u001b[39m    ValueError: when an option is set more than once to a non-default value\u001b[39;00m\n\u001b[0;32m   2725\u001b[0m \u001b[39m  \"\"\"\u001b[39;00m\n\u001b[1;32m-> 2726\u001b[0m   \u001b[39mreturn\u001b[39;00m _OptionsDataset(\u001b[39mself\u001b[39;49m, options, name\u001b[39m=\u001b[39;49mname)\n",
      "File \u001b[1;32mc:\\Users\\SixaliyevAS\\AppData\\Local\\Programs\\Python\\Python310\\lib\\site-packages\\tensorflow\\python\\data\\ops\\dataset_ops.py:5579\u001b[0m, in \u001b[0;36m_OptionsDataset.__init__\u001b[1;34m(self, input_dataset, options, name)\u001b[0m\n\u001b[0;32m   5577\u001b[0m \u001b[39mself\u001b[39m\u001b[39m.\u001b[39m_name \u001b[39m=\u001b[39m name\n\u001b[0;32m   5578\u001b[0m \u001b[39mwith\u001b[39;00m ops\u001b[39m.\u001b[39mcolocate_with(input_dataset\u001b[39m.\u001b[39m_variant_tensor):\n\u001b[1;32m-> 5579\u001b[0m   variant_tensor \u001b[39m=\u001b[39m gen_dataset_ops\u001b[39m.\u001b[39moptions_dataset(\n\u001b[0;32m   5580\u001b[0m       input_dataset\u001b[39m.\u001b[39m_variant_tensor, options_pb\u001b[39m.\u001b[39mSerializeToString(),\n\u001b[0;32m   5581\u001b[0m       \u001b[39m*\u001b[39m\u001b[39m*\u001b[39m\u001b[39mself\u001b[39m\u001b[39m.\u001b[39m_common_args)\n\u001b[0;32m   5582\u001b[0m \u001b[39msuper\u001b[39m(_OptionsDataset, \u001b[39mself\u001b[39m)\u001b[39m.\u001b[39m\u001b[39m__init__\u001b[39m(input_dataset, variant_tensor)\n\u001b[0;32m   5584\u001b[0m \u001b[39mif\u001b[39;00m \u001b[39mself\u001b[39m\u001b[39m.\u001b[39m_options_attr:\n",
      "File \u001b[1;32mc:\\Users\\SixaliyevAS\\AppData\\Local\\Programs\\Python\\Python310\\lib\\site-packages\\tensorflow\\python\\ops\\gen_dataset_ops.py:4821\u001b[0m, in \u001b[0;36moptions_dataset\u001b[1;34m(input_dataset, serialized_options, output_types, output_shapes, metadata, name)\u001b[0m\n\u001b[0;32m   4819\u001b[0m \u001b[39mif\u001b[39;00m tld\u001b[39m.\u001b[39mis_eager:\n\u001b[0;32m   4820\u001b[0m   \u001b[39mtry\u001b[39;00m:\n\u001b[1;32m-> 4821\u001b[0m     _result \u001b[39m=\u001b[39m pywrap_tfe\u001b[39m.\u001b[39;49mTFE_Py_FastPathExecute(\n\u001b[0;32m   4822\u001b[0m       _ctx, \u001b[39m\"\u001b[39;49m\u001b[39mOptionsDataset\u001b[39;49m\u001b[39m\"\u001b[39;49m, name, input_dataset, \u001b[39m\"\u001b[39;49m\u001b[39mserialized_options\u001b[39;49m\u001b[39m\"\u001b[39;49m,\n\u001b[0;32m   4823\u001b[0m       serialized_options, \u001b[39m\"\u001b[39;49m\u001b[39moutput_types\u001b[39;49m\u001b[39m\"\u001b[39;49m, output_types, \u001b[39m\"\u001b[39;49m\u001b[39moutput_shapes\u001b[39;49m\u001b[39m\"\u001b[39;49m,\n\u001b[0;32m   4824\u001b[0m       output_shapes, \u001b[39m\"\u001b[39;49m\u001b[39mmetadata\u001b[39;49m\u001b[39m\"\u001b[39;49m, metadata)\n\u001b[0;32m   4825\u001b[0m     \u001b[39mreturn\u001b[39;00m _result\n\u001b[0;32m   4826\u001b[0m   \u001b[39mexcept\u001b[39;00m _core\u001b[39m.\u001b[39m_NotOkStatusException \u001b[39mas\u001b[39;00m e:\n",
      "\u001b[1;31mKeyboardInterrupt\u001b[0m: "
     ]
    },
    {
     "ename": "",
     "evalue": "",
     "output_type": "error",
     "traceback": [
      "\u001b[1;31mThe Kernel crashed while executing code in the the current cell or a previous cell. Please review the code in the cell(s) to identify a possible cause of the failure. Click <a href='https://aka.ms/vscodeJupyterKernelCrash'>here</a> for more info. View Jupyter <a href='command:jupyter.viewOutput'>log</a> for further details."
     ]
    }
   ],
   "source": [
    "cap = cv2.VideoCapture(0)\n",
    "\n",
    "while True:\n",
    "\n",
    "    ret, frame = cap.read()\n",
    "    frame = cv2.flip(frame, 1)\n",
    "    frame_copy = frame.copy()\n",
    "\n",
    "    roi = frame[100:300, 350:550]\n",
    "    roi = cv2.cvtColor(roi, cv2.COLOR_BGR2GRAY)\n",
    "    roi = cv2.resize(roi, (img_size, img_size), interpolation = cv2.INTER_AREA)\n",
    "    cv2.imshow('roi - gray', roi)\n",
    "\n",
    "    cv2.rectangle(frame_copy, (350, 100), (550, 300), (255,0,0), 5)\n",
    "    \n",
    "    roi = roi.reshape(1,img_size,img_size,1) \n",
    "\n",
    "    roi = roi/255\n",
    "    result = str(np.argmax(model.predict(roi, 1, verbose = 0)[0]))\n",
    "\n",
    "    cv2.putText(frame_copy, getLetter(result), (300 , 100), cv2.FONT_HERSHEY_COMPLEX, 2, (0, 255, 0), 2)\n",
    "    cv2.imshow('Frame', frame_copy)    \n",
    "    \n",
    "    if cv2.waitKey(1) == 13: # Enter-Key to stop\n",
    "        break\n",
    "        \n",
    "cap.release()\n",
    "cv2.destroyAllWindows() "
   ]
  },
  {
   "cell_type": "code",
   "execution_count": null,
   "metadata": {},
   "outputs": [],
   "source": []
  }
 ],
 "metadata": {
  "kernelspec": {
   "display_name": "Python 3.10.5 64-bit",
   "language": "python",
   "name": "python3"
  },
  "language_info": {
   "codemirror_mode": {
    "name": "ipython",
    "version": 3
   },
   "file_extension": ".py",
   "mimetype": "text/x-python",
   "name": "python",
   "nbconvert_exporter": "python",
   "pygments_lexer": "ipython3",
   "version": "3.10.5"
  },
  "orig_nbformat": 4,
  "vscode": {
   "interpreter": {
    "hash": "d7afdac00a064982d10b52ba168272536532ce8dd62af6e439b45b63a7aaf073"
   }
  }
 },
 "nbformat": 4,
 "nbformat_minor": 2
}
